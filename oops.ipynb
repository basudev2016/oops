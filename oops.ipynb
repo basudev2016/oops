{
  "nbformat": 4,
  "nbformat_minor": 0,
  "metadata": {
    "colab": {
      "provenance": [],
      "authorship_tag": "ABX9TyOf9gStxF7b7lPB7P/ZqXEQ",
      "include_colab_link": true
    },
    "kernelspec": {
      "name": "python3",
      "display_name": "Python 3"
    },
    "language_info": {
      "name": "python"
    }
  },
  "cells": [
    {
      "cell_type": "markdown",
      "metadata": {
        "id": "view-in-github",
        "colab_type": "text"
      },
      "source": [
        "<a href=\"https://colab.research.google.com/github/basudev2016/oops/blob/main/oops.ipynb\" target=\"_parent\"><img src=\"https://colab.research.google.com/assets/colab-badge.svg\" alt=\"Open In Colab\"/></a>"
      ]
    },
    {
      "cell_type": "markdown",
      "source": [
        "Everything i python are objects.\n",
        "Proceduroial approach\n",
        "Functional approach\n",
        "OOP approach\n",
        "\n",
        "OOP - Takes from General to Specific\n",
        "\n",
        "OOP gives the programmer the flexibility create own data type.\n",
        "Helps in creating customised objects instead of relying only on builtin data types like string, list, int, tuple, dictionary etc\n",
        "hovers around 6 concepts.\n",
        "1. Class\n",
        "2. Object\n",
        "3. Polymorphism\n",
        "4. Encapsulation\n",
        "5. Inheritance\n",
        "6. Abstraction"
      ],
      "metadata": {
        "id": "2W1GKU9Ayk0k"
      }
    },
    {
      "cell_type": "code",
      "source": [
        "L = ['a','b','c']\n",
        "\n",
        "print(type(L))"
      ],
      "metadata": {
        "colab": {
          "base_uri": "https://localhost:8080/"
        },
        "id": "rpQgMJ8Yy_yi",
        "outputId": "2d8aaf6b-6723-40c8-9bf8-2b72fdaf8480"
      },
      "execution_count": 2,
      "outputs": [
        {
          "output_type": "stream",
          "name": "stdout",
          "text": [
            "<class 'list'>\n"
          ]
        }
      ]
    },
    {
      "cell_type": "code",
      "source": [
        "L.upper()"
      ],
      "metadata": {
        "colab": {
          "base_uri": "https://localhost:8080/",
          "height": 141
        },
        "id": "-N3e7pWhzGOg",
        "outputId": "0c103b80-7105-4b34-99d8-4013c60bb637"
      },
      "execution_count": 3,
      "outputs": [
        {
          "output_type": "error",
          "ename": "AttributeError",
          "evalue": "'list' object has no attribute 'upper'",
          "traceback": [
            "\u001b[0;31m---------------------------------------------------------------------------\u001b[0m",
            "\u001b[0;31mAttributeError\u001b[0m                            Traceback (most recent call last)",
            "\u001b[0;32m<ipython-input-3-23af83e72fe0>\u001b[0m in \u001b[0;36m<cell line: 1>\u001b[0;34m()\u001b[0m\n\u001b[0;32m----> 1\u001b[0;31m \u001b[0mL\u001b[0m\u001b[0;34m.\u001b[0m\u001b[0mupper\u001b[0m\u001b[0;34m(\u001b[0m\u001b[0;34m)\u001b[0m\u001b[0;34m\u001b[0m\u001b[0;34m\u001b[0m\u001b[0m\n\u001b[0m",
            "\u001b[0;31mAttributeError\u001b[0m: 'list' object has no attribute 'upper'"
          ]
        }
      ]
    },
    {
      "cell_type": "markdown",
      "source": [
        "Class - Blueprint where the rules are defined and it defines the rules for any objected created under that class.\n",
        "\n",
        "Cars are classes but Maruti Swift is an object of class - Cars\n",
        "MobilePnones are classes but iphonex is an object\n",
        "\n",
        "Classes are the set of rules that every object belongs to that class follows them.\n"
      ],
      "metadata": {
        "id": "ifxY7hcqzcxd"
      }
    },
    {
      "cell_type": "code",
      "source": [
        "L = [1,2,3]\n",
        "\n",
        "L."
      ],
      "metadata": {
        "id": "EqJ5-GuNyqVb"
      },
      "execution_count": null,
      "outputs": []
    },
    {
      "cell_type": "markdown",
      "source": [
        "put the dot after L and wai for some time. colab will suggest all the functions available for that object L of class List"
      ],
      "metadata": {
        "id": "iIlOg3meR1jR"
      }
    },
    {
      "cell_type": "markdown",
      "source": [
        "testing bu=y adding a separate line"
      ],
      "metadata": {
        "id": "yk-O6RUISXGH"
      }
    }
  ]
}